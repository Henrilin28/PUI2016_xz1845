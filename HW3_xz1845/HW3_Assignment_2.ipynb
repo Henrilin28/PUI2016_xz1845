{
 "cells": [
  {
   "cell_type": "markdown",
   "metadata": {},
   "source": [
    "# IDEA:\n",
    "Older people tend to use bikes with shorter distances than younger people do.\n",
    "\n",
    "\n",
    "# NULL HYPOTHESIS\n",
    "The mean bike trip duration by older people (Age>45) is equal or longer than the mean bike trip duration by younger people (Age <= 45).\n",
    "\n",
    "$H_0$: $mean_{older} \\geq mean_{younger}$\n",
    "\n",
    "$H_1$: $mean_{older} \\leq mean_{younger}$\n",
    "\n",
    "# Significance level \n",
    "$\\alpha=0.05$\n",
    "\n",
    "# Data\n",
    "One year data of 2015"
   ]
  },
  {
   "cell_type": "code",
   "execution_count": 1,
   "metadata": {
    "collapsed": false
   },
   "outputs": [],
   "source": [
    "from __future__  import print_function, division\n",
    "import matplotlib.pyplot as plt\n",
    "import pandas as pd\n",
    "import numpy as np\n",
    "import requests\n",
    "import zipfile\n",
    "import StringIO"
   ]
  },
  {
   "cell_type": "code",
   "execution_count": 2,
   "metadata": {
    "collapsed": true
   },
   "outputs": [],
   "source": [
    "def getcitiDatacsv(datestring):\n",
    "    import requests\n",
    "    import zipfile\n",
    "    import StringIO\n",
    "    zip_file_url = \"https://s3.amazonaws.com/tripdata/\" + datestring + \"-citibike-tripdata.zip\"\n",
    "    r = requests.get(zip_file_url, stream=True)\n",
    "    z = zipfile.ZipFile(StringIO.StringIO(r.content))\n",
    "    z.extractall()"
   ]
  },
  {
   "cell_type": "code",
   "execution_count": 3,
   "metadata": {
    "collapsed": false
   },
   "outputs": [],
   "source": [
    "# Make list of strings for datestrings\n",
    "datelist = map(str, range(201501,201513))"
   ]
  },
  {
   "cell_type": "code",
   "execution_count": 4,
   "metadata": {
    "collapsed": false
   },
   "outputs": [],
   "source": [
    "# Download and extract datasets\n",
    "for i in datelist:\n",
    "    getcitiDatacsv(i)              "
   ]
  },
  {
   "cell_type": "code",
   "execution_count": 5,
   "metadata": {
    "collapsed": false
   },
   "outputs": [],
   "source": [
    "# Put all dataset into one list\n",
    "listdata = []\n",
    "for i in datelist:\n",
    "    temp = pd.read_csv(i+\"-citibike-tripdata.csv\")\n",
    "    listdata.append(temp)"
   ]
  },
  {
   "cell_type": "code",
   "execution_count": 6,
   "metadata": {
    "collapsed": false
   },
   "outputs": [],
   "source": [
    "# Append all datasets together\n",
    "data = pd.DataFrame()\n",
    "for i in listdata:\n",
    "    data = data.append(i, ignore_index=True)"
   ]
  },
  {
   "cell_type": "code",
   "execution_count": 7,
   "metadata": {
    "collapsed": false
   },
   "outputs": [
    {
     "data": {
      "text/html": [
       "<div>\n",
       "<table border=\"1\" class=\"dataframe\">\n",
       "  <thead>\n",
       "    <tr style=\"text-align: right;\">\n",
       "      <th></th>\n",
       "      <th>tripduration</th>\n",
       "      <th>starttime</th>\n",
       "      <th>stoptime</th>\n",
       "      <th>start station id</th>\n",
       "      <th>start station name</th>\n",
       "      <th>start station latitude</th>\n",
       "      <th>start station longitude</th>\n",
       "      <th>end station id</th>\n",
       "      <th>end station name</th>\n",
       "      <th>end station latitude</th>\n",
       "      <th>end station longitude</th>\n",
       "      <th>bikeid</th>\n",
       "      <th>usertype</th>\n",
       "      <th>birth year</th>\n",
       "      <th>gender</th>\n",
       "    </tr>\n",
       "  </thead>\n",
       "  <tbody>\n",
       "    <tr>\n",
       "      <th>0</th>\n",
       "      <td>1346</td>\n",
       "      <td>1/1/2015 0:01</td>\n",
       "      <td>1/1/2015 0:24</td>\n",
       "      <td>455</td>\n",
       "      <td>1 Ave &amp; E 44 St</td>\n",
       "      <td>40.750020</td>\n",
       "      <td>-73.969053</td>\n",
       "      <td>265</td>\n",
       "      <td>Stanton St &amp; Chrystie St</td>\n",
       "      <td>40.722293</td>\n",
       "      <td>-73.991475</td>\n",
       "      <td>18660</td>\n",
       "      <td>Subscriber</td>\n",
       "      <td>1960.0</td>\n",
       "      <td>2</td>\n",
       "    </tr>\n",
       "    <tr>\n",
       "      <th>1</th>\n",
       "      <td>363</td>\n",
       "      <td>1/1/2015 0:02</td>\n",
       "      <td>1/1/2015 0:08</td>\n",
       "      <td>434</td>\n",
       "      <td>9 Ave &amp; W 18 St</td>\n",
       "      <td>40.743174</td>\n",
       "      <td>-74.003664</td>\n",
       "      <td>482</td>\n",
       "      <td>W 15 St &amp; 7 Ave</td>\n",
       "      <td>40.739355</td>\n",
       "      <td>-73.999318</td>\n",
       "      <td>16085</td>\n",
       "      <td>Subscriber</td>\n",
       "      <td>1963.0</td>\n",
       "      <td>1</td>\n",
       "    </tr>\n",
       "    <tr>\n",
       "      <th>2</th>\n",
       "      <td>346</td>\n",
       "      <td>1/1/2015 0:04</td>\n",
       "      <td>1/1/2015 0:10</td>\n",
       "      <td>491</td>\n",
       "      <td>E 24 St &amp; Park Ave S</td>\n",
       "      <td>40.740964</td>\n",
       "      <td>-73.986022</td>\n",
       "      <td>505</td>\n",
       "      <td>6 Ave &amp; W 33 St</td>\n",
       "      <td>40.749013</td>\n",
       "      <td>-73.988484</td>\n",
       "      <td>20845</td>\n",
       "      <td>Subscriber</td>\n",
       "      <td>1974.0</td>\n",
       "      <td>1</td>\n",
       "    </tr>\n",
       "    <tr>\n",
       "      <th>3</th>\n",
       "      <td>182</td>\n",
       "      <td>1/1/2015 0:04</td>\n",
       "      <td>1/1/2015 0:07</td>\n",
       "      <td>384</td>\n",
       "      <td>Fulton St &amp; Waverly Ave</td>\n",
       "      <td>40.683178</td>\n",
       "      <td>-73.965964</td>\n",
       "      <td>399</td>\n",
       "      <td>Lafayette Ave &amp; St James Pl</td>\n",
       "      <td>40.688515</td>\n",
       "      <td>-73.964763</td>\n",
       "      <td>19610</td>\n",
       "      <td>Subscriber</td>\n",
       "      <td>1969.0</td>\n",
       "      <td>1</td>\n",
       "    </tr>\n",
       "    <tr>\n",
       "      <th>4</th>\n",
       "      <td>969</td>\n",
       "      <td>1/1/2015 0:05</td>\n",
       "      <td>1/1/2015 0:21</td>\n",
       "      <td>474</td>\n",
       "      <td>5 Ave &amp; E 29 St</td>\n",
       "      <td>40.745168</td>\n",
       "      <td>-73.986831</td>\n",
       "      <td>432</td>\n",
       "      <td>E 7 St &amp; Avenue A</td>\n",
       "      <td>40.726218</td>\n",
       "      <td>-73.983799</td>\n",
       "      <td>20197</td>\n",
       "      <td>Subscriber</td>\n",
       "      <td>1977.0</td>\n",
       "      <td>1</td>\n",
       "    </tr>\n",
       "  </tbody>\n",
       "</table>\n",
       "</div>"
      ],
      "text/plain": [
       "   tripduration      starttime       stoptime  start station id  \\\n",
       "0          1346  1/1/2015 0:01  1/1/2015 0:24               455   \n",
       "1           363  1/1/2015 0:02  1/1/2015 0:08               434   \n",
       "2           346  1/1/2015 0:04  1/1/2015 0:10               491   \n",
       "3           182  1/1/2015 0:04  1/1/2015 0:07               384   \n",
       "4           969  1/1/2015 0:05  1/1/2015 0:21               474   \n",
       "\n",
       "        start station name  start station latitude  start station longitude  \\\n",
       "0          1 Ave & E 44 St               40.750020               -73.969053   \n",
       "1          9 Ave & W 18 St               40.743174               -74.003664   \n",
       "2     E 24 St & Park Ave S               40.740964               -73.986022   \n",
       "3  Fulton St & Waverly Ave               40.683178               -73.965964   \n",
       "4          5 Ave & E 29 St               40.745168               -73.986831   \n",
       "\n",
       "   end station id             end station name  end station latitude  \\\n",
       "0             265     Stanton St & Chrystie St             40.722293   \n",
       "1             482              W 15 St & 7 Ave             40.739355   \n",
       "2             505              6 Ave & W 33 St             40.749013   \n",
       "3             399  Lafayette Ave & St James Pl             40.688515   \n",
       "4             432            E 7 St & Avenue A             40.726218   \n",
       "\n",
       "   end station longitude  bikeid    usertype  birth year  gender  \n",
       "0             -73.991475   18660  Subscriber      1960.0       2  \n",
       "1             -73.999318   16085  Subscriber      1963.0       1  \n",
       "2             -73.988484   20845  Subscriber      1974.0       1  \n",
       "3             -73.964763   19610  Subscriber      1969.0       1  \n",
       "4             -73.983799   20197  Subscriber      1977.0       1  "
      ]
     },
     "execution_count": 7,
     "metadata": {},
     "output_type": "execute_result"
    }
   ],
   "source": [
    "data.head()"
   ]
  },
  {
   "cell_type": "code",
   "execution_count": 8,
   "metadata": {
    "collapsed": false
   },
   "outputs": [],
   "source": [
    "data_reducted = data.dropna()\n",
    "data_reducted = data_reducted.loc[:,[\"tripduration\", \"birth year\"]]"
   ]
  },
  {
   "cell_type": "code",
   "execution_count": 9,
   "metadata": {
    "collapsed": false
   },
   "outputs": [
    {
     "data": {
      "text/html": [
       "<div>\n",
       "<table border=\"1\" class=\"dataframe\">\n",
       "  <thead>\n",
       "    <tr style=\"text-align: right;\">\n",
       "      <th></th>\n",
       "      <th>tripduration</th>\n",
       "      <th>birth year</th>\n",
       "    </tr>\n",
       "  </thead>\n",
       "  <tbody>\n",
       "    <tr>\n",
       "      <th>0</th>\n",
       "      <td>1346</td>\n",
       "      <td>1960.0</td>\n",
       "    </tr>\n",
       "    <tr>\n",
       "      <th>1</th>\n",
       "      <td>363</td>\n",
       "      <td>1963.0</td>\n",
       "    </tr>\n",
       "    <tr>\n",
       "      <th>2</th>\n",
       "      <td>346</td>\n",
       "      <td>1974.0</td>\n",
       "    </tr>\n",
       "    <tr>\n",
       "      <th>3</th>\n",
       "      <td>182</td>\n",
       "      <td>1969.0</td>\n",
       "    </tr>\n",
       "    <tr>\n",
       "      <th>4</th>\n",
       "      <td>969</td>\n",
       "      <td>1977.0</td>\n",
       "    </tr>\n",
       "  </tbody>\n",
       "</table>\n",
       "</div>"
      ],
      "text/plain": [
       "   tripduration  birth year\n",
       "0          1346      1960.0\n",
       "1           363      1963.0\n",
       "2           346      1974.0\n",
       "3           182      1969.0\n",
       "4           969      1977.0"
      ]
     },
     "execution_count": 9,
     "metadata": {},
     "output_type": "execute_result"
    }
   ],
   "source": [
    "data_reducted.head()"
   ]
  },
  {
   "cell_type": "code",
   "execution_count": 10,
   "metadata": {
    "collapsed": true
   },
   "outputs": [],
   "source": [
    "# Trip Duration converted to minutes\n",
    "data_reducted['trip_duration_min'] = data_reducted.tripduration / 60"
   ]
  },
  {
   "cell_type": "code",
   "execution_count": 11,
   "metadata": {
    "collapsed": true
   },
   "outputs": [],
   "source": [
    "# The age of a biker is calculated simply by the current year of data (2015) minus the birth year \n",
    "data_reducted['age'] = 2015 - data_reducted['birth year']"
   ]
  },
  {
   "cell_type": "code",
   "execution_count": 12,
   "metadata": {
    "collapsed": false
   },
   "outputs": [
    {
     "data": {
      "text/html": [
       "<div>\n",
       "<table border=\"1\" class=\"dataframe\">\n",
       "  <thead>\n",
       "    <tr style=\"text-align: right;\">\n",
       "      <th></th>\n",
       "      <th>tripduration</th>\n",
       "      <th>birth year</th>\n",
       "      <th>trip_duration_min</th>\n",
       "      <th>age</th>\n",
       "    </tr>\n",
       "  </thead>\n",
       "  <tbody>\n",
       "    <tr>\n",
       "      <th>0</th>\n",
       "      <td>1346</td>\n",
       "      <td>1960.0</td>\n",
       "      <td>22.433333</td>\n",
       "      <td>55.0</td>\n",
       "    </tr>\n",
       "    <tr>\n",
       "      <th>1</th>\n",
       "      <td>363</td>\n",
       "      <td>1963.0</td>\n",
       "      <td>6.050000</td>\n",
       "      <td>52.0</td>\n",
       "    </tr>\n",
       "    <tr>\n",
       "      <th>2</th>\n",
       "      <td>346</td>\n",
       "      <td>1974.0</td>\n",
       "      <td>5.766667</td>\n",
       "      <td>41.0</td>\n",
       "    </tr>\n",
       "    <tr>\n",
       "      <th>3</th>\n",
       "      <td>182</td>\n",
       "      <td>1969.0</td>\n",
       "      <td>3.033333</td>\n",
       "      <td>46.0</td>\n",
       "    </tr>\n",
       "    <tr>\n",
       "      <th>4</th>\n",
       "      <td>969</td>\n",
       "      <td>1977.0</td>\n",
       "      <td>16.150000</td>\n",
       "      <td>38.0</td>\n",
       "    </tr>\n",
       "  </tbody>\n",
       "</table>\n",
       "</div>"
      ],
      "text/plain": [
       "   tripduration  birth year  trip_duration_min   age\n",
       "0          1346      1960.0          22.433333  55.0\n",
       "1           363      1963.0           6.050000  52.0\n",
       "2           346      1974.0           5.766667  41.0\n",
       "3           182      1969.0           3.033333  46.0\n",
       "4           969      1977.0          16.150000  38.0"
      ]
     },
     "execution_count": 12,
     "metadata": {},
     "output_type": "execute_result"
    }
   ],
   "source": [
    "# The new dataset with age column\n",
    "data_reducted.head()"
   ]
  },
  {
   "cell_type": "code",
   "execution_count": 13,
   "metadata": {
    "collapsed": false
   },
   "outputs": [],
   "source": [
    "ls_age_range = np.linspace(1,100,10)\n",
    "data_reducted['age_range'] = pd.cut(data_reducted['age'], bins=ls_age_range)"
   ]
  },
  {
   "cell_type": "code",
   "execution_count": 14,
   "metadata": {
    "collapsed": false
   },
   "outputs": [
    {
     "data": {
      "text/html": [
       "<div>\n",
       "<table border=\"1\" class=\"dataframe\">\n",
       "  <thead>\n",
       "    <tr style=\"text-align: right;\">\n",
       "      <th></th>\n",
       "      <th>tripduration</th>\n",
       "      <th>birth year</th>\n",
       "      <th>trip_duration_min</th>\n",
       "      <th>age</th>\n",
       "      <th>age_range</th>\n",
       "    </tr>\n",
       "  </thead>\n",
       "  <tbody>\n",
       "    <tr>\n",
       "      <th>0</th>\n",
       "      <td>1346</td>\n",
       "      <td>1960.0</td>\n",
       "      <td>22.433333</td>\n",
       "      <td>55.0</td>\n",
       "      <td>(45, 56]</td>\n",
       "    </tr>\n",
       "    <tr>\n",
       "      <th>1</th>\n",
       "      <td>363</td>\n",
       "      <td>1963.0</td>\n",
       "      <td>6.050000</td>\n",
       "      <td>52.0</td>\n",
       "      <td>(45, 56]</td>\n",
       "    </tr>\n",
       "    <tr>\n",
       "      <th>2</th>\n",
       "      <td>346</td>\n",
       "      <td>1974.0</td>\n",
       "      <td>5.766667</td>\n",
       "      <td>41.0</td>\n",
       "      <td>(34, 45]</td>\n",
       "    </tr>\n",
       "    <tr>\n",
       "      <th>3</th>\n",
       "      <td>182</td>\n",
       "      <td>1969.0</td>\n",
       "      <td>3.033333</td>\n",
       "      <td>46.0</td>\n",
       "      <td>(45, 56]</td>\n",
       "    </tr>\n",
       "    <tr>\n",
       "      <th>4</th>\n",
       "      <td>969</td>\n",
       "      <td>1977.0</td>\n",
       "      <td>16.150000</td>\n",
       "      <td>38.0</td>\n",
       "      <td>(34, 45]</td>\n",
       "    </tr>\n",
       "  </tbody>\n",
       "</table>\n",
       "</div>"
      ],
      "text/plain": [
       "   tripduration  birth year  trip_duration_min   age age_range\n",
       "0          1346      1960.0          22.433333  55.0  (45, 56]\n",
       "1           363      1963.0           6.050000  52.0  (45, 56]\n",
       "2           346      1974.0           5.766667  41.0  (34, 45]\n",
       "3           182      1969.0           3.033333  46.0  (45, 56]\n",
       "4           969      1977.0          16.150000  38.0  (34, 45]"
      ]
     },
     "execution_count": 14,
     "metadata": {},
     "output_type": "execute_result"
    }
   ],
   "source": [
    "data_reducted.head()"
   ]
  },
  {
   "cell_type": "code",
   "execution_count": 15,
   "metadata": {
    "collapsed": false
   },
   "outputs": [],
   "source": [
    "df_agerange_mean = data_reducted.groupby(data_reducted.age_range).mean()"
   ]
  },
  {
   "cell_type": "code",
   "execution_count": 16,
   "metadata": {
    "collapsed": false
   },
   "outputs": [],
   "source": [
    "df_agerange_mean = df_agerange_mean.drop(['tripduration', 'birth year', 'age'], axis=1)"
   ]
  },
  {
   "cell_type": "code",
   "execution_count": 17,
   "metadata": {
    "collapsed": false
   },
   "outputs": [
    {
     "data": {
      "image/png": "[encoded data removed]",
      "text/plain": [
       "<matplotlib.figure.Figure at 0x7fa6d0c16e10>"
      ]
     },
     "metadata": {},
     "output_type": "display_data"
    }
   ],
   "source": [
    "# Plot distribution of trip duration against age\n",
    "df_agerange_mean.plot(kind='bar', alpha=0.5, legend=False)\n",
    "plt.xlabel('Age')\n",
    "plt.ylabel('Trip Duration (Min)')\n",
    "plt.title('Figure 1: Distribution of Mean Trip Duration with Age')\n",
    "plt.show()"
   ]
  },
  {
   "cell_type": "code",
   "execution_count": 18,
   "metadata": {
    "collapsed": false
   },
   "outputs": [],
   "source": [
    "df_agerange_sum = data_reducted.groupby(data_reducted.age_range).sum()"
   ]
  },
  {
   "cell_type": "code",
   "execution_count": 19,
   "metadata": {
    "collapsed": false,
    "scrolled": false
   },
   "outputs": [
    {
     "data": {
      "text/html": [
       "<div>\n",
       "<table border=\"1\" class=\"dataframe\">\n",
       "  <thead>\n",
       "    <tr style=\"text-align: right;\">\n",
       "      <th></th>\n",
       "      <th>tripduration</th>\n",
       "      <th>birth year</th>\n",
       "      <th>trip_duration_min</th>\n",
       "      <th>age</th>\n",
       "    </tr>\n",
       "    <tr>\n",
       "      <th>age_range</th>\n",
       "      <th></th>\n",
       "      <th></th>\n",
       "      <th></th>\n",
       "      <th></th>\n",
       "    </tr>\n",
       "  </thead>\n",
       "  <tbody>\n",
       "    <tr>\n",
       "      <th>(1, 12]</th>\n",
       "      <td>NaN</td>\n",
       "      <td>NaN</td>\n",
       "      <td>NaN</td>\n",
       "      <td>NaN</td>\n",
       "    </tr>\n",
       "    <tr>\n",
       "      <th>(12, 23]</th>\n",
       "      <td>3.053782e+08</td>\n",
       "      <td>8.216682e+08</td>\n",
       "      <td>5.089637e+06</td>\n",
       "      <td>8799985.0</td>\n",
       "    </tr>\n",
       "    <tr>\n",
       "      <th>(23, 34]</th>\n",
       "      <td>2.775312e+09</td>\n",
       "      <td>6.943887e+09</td>\n",
       "      <td>4.625520e+07</td>\n",
       "      <td>102114605.0</td>\n",
       "    </tr>\n",
       "    <tr>\n",
       "      <th>(34, 45]</th>\n",
       "      <td>1.949371e+09</td>\n",
       "      <td>4.710029e+09</td>\n",
       "      <td>3.248952e+07</td>\n",
       "      <td>94644078.0</td>\n",
       "    </tr>\n",
       "    <tr>\n",
       "      <th>(45, 56]</th>\n",
       "      <td>1.367962e+09</td>\n",
       "      <td>3.180456e+09</td>\n",
       "      <td>2.279937e+07</td>\n",
       "      <td>81819291.0</td>\n",
       "    </tr>\n",
       "    <tr>\n",
       "      <th>(56, 67]</th>\n",
       "      <td>5.607481e+08</td>\n",
       "      <td>1.235216e+09</td>\n",
       "      <td>9.345802e+06</td>\n",
       "      <td>38272380.0</td>\n",
       "    </tr>\n",
       "    <tr>\n",
       "      <th>(67, 78]</th>\n",
       "      <td>6.692070e+07</td>\n",
       "      <td>1.488669e+08</td>\n",
       "      <td>1.115345e+06</td>\n",
       "      <td>5437751.0</td>\n",
       "    </tr>\n",
       "    <tr>\n",
       "      <th>(78, 89]</th>\n",
       "      <td>1.815134e+06</td>\n",
       "      <td>4.414784e+06</td>\n",
       "      <td>3.025223e+04</td>\n",
       "      <td>185461.0</td>\n",
       "    </tr>\n",
       "    <tr>\n",
       "      <th>(89, 100]</th>\n",
       "      <td>1.429210e+05</td>\n",
       "      <td>4.149030e+05</td>\n",
       "      <td>2.382017e+03</td>\n",
       "      <td>20337.0</td>\n",
       "    </tr>\n",
       "  </tbody>\n",
       "</table>\n",
       "</div>"
      ],
      "text/plain": [
       "           tripduration    birth year  trip_duration_min          age\n",
       "age_range                                                            \n",
       "(1, 12]             NaN           NaN                NaN          NaN\n",
       "(12, 23]   3.053782e+08  8.216682e+08       5.089637e+06    8799985.0\n",
       "(23, 34]   2.775312e+09  6.943887e+09       4.625520e+07  102114605.0\n",
       "(34, 45]   1.949371e+09  4.710029e+09       3.248952e+07   94644078.0\n",
       "(45, 56]   1.367962e+09  3.180456e+09       2.279937e+07   81819291.0\n",
       "(56, 67]   5.607481e+08  1.235216e+09       9.345802e+06   38272380.0\n",
       "(67, 78]   6.692070e+07  1.488669e+08       1.115345e+06    5437751.0\n",
       "(78, 89]   1.815134e+06  4.414784e+06       3.025223e+04     185461.0\n",
       "(89, 100]  1.429210e+05  4.149030e+05       2.382017e+03      20337.0"
      ]
     },
     "execution_count": 19,
     "metadata": {},
     "output_type": "execute_result"
    }
   ],
   "source": [
    "df_agerange_sum"
   ]
  },
  {
   "cell_type": "code",
   "execution_count": 20,
   "metadata": {
    "collapsed": false
   },
   "outputs": [],
   "source": [
    "# Normalize the tripduration by divide by total trip duration\n",
    "df_normalized = pd.DataFrame()\n",
    "df_normalized['normalized_trip_duration'] = df_agerange_sum.tripduration / df_agerange_sum.tripduration.sum()"
   ]
  },
  {
   "cell_type": "code",
   "execution_count": 21,
   "metadata": {
    "collapsed": false
   },
   "outputs": [
    {
     "data": {
      "image/png": "[encoded data removed]",
      "text/plain": [
       "<matplotlib.figure.Figure at 0x7fa667343550>"
      ]
     },
     "metadata": {},
     "output_type": "display_data"
    }
   ],
   "source": [
    "df_normalized.plot(kind='bar', alpha=0.5, legend=False)\n",
    "plt.xlabel('Age')\n",
    "plt.ylabel('Normalized Trip Duration')\n",
    "plt.title('Figure 2: Distribution of Normalized Trip Duration with Age')\n",
    "plt.show()"
   ]
  },
  {
   "cell_type": "code",
   "execution_count": 22,
   "metadata": {
    "collapsed": false
   },
   "outputs": [],
   "source": [
    "# Divide the data into two between age 45\n",
    "below45 = df_normalized[0:4].normalized_trip_duration.sum()\n",
    "above45 = df_normalized[4:9].normalized_trip_duration.sum()"
   ]
  },
  {
   "cell_type": "code",
   "execution_count": 32,
   "metadata": {
    "collapsed": false
   },
   "outputs": [],
   "source": [
    "# Calculate the standard error of the mean for trip durations\n",
    "sample_std_above = data_reducted[data_reducted.age>45].trip_duration_min.std()\n",
    "n_above = data_reducted[data_reducted.age>45].trip_duration_min.count()\n",
    "error_above = sample_std_above/np.sqrt(n_above)\n",
    "\n",
    "sample_std_below = data_reducted[data_reducted.age<=45].trip_duration_min.std()\n",
    "n_below = data_reducted[data_reducted.age<=45].trip_duration_min.count()\n",
    "error_below = sample_std_below/np.sqrt(n_below)"
   ]
  },
  {
   "cell_type": "code",
   "execution_count": 59,
   "metadata": {
    "collapsed": false
   },
   "outputs": [
    {
     "data": {
      "image/png": "[encoded data removed]",
      "text/plain": [
       "<matplotlib.figure.Figure at 0x7fa65716d850>"
      ]
     },
     "metadata": {},
     "output_type": "display_data"
    }
   ],
   "source": [
    "fig = plt.figure()\n",
    "ax = fig.add_subplot(111)\n",
    "ax.set_xticks([])\n",
    "ax.errorbar(x = [0.2], y = below45, yerr=error_below, fmt='o', label='Above Age 45')\n",
    "ax.errorbar(x = [0.4], y = above45, yerr=error_above, fmt='o', label='Below Age 45')\n",
    "ax.set_ylim(0,1)\n",
    "ax.set_xlim(0,0.5)\n",
    "ax.set_title('Older Biker vs Younger Biker')\n",
    "ax.set_ylabel('Normalized Trip Duration')\n",
    "plt.legend(fontsize = 10)\n",
    "\n",
    "plt.show()"
   ]
  }
 ],
 "metadata": {
  "kernelspec": {
   "display_name": "PUI2016_Python2",
   "language": "python",
   "name": "pui2016_python2"
  },
  "language_info": {
   "codemirror_mode": {
    "name": "ipython",
    "version": 2
   },
   "file_extension": ".py",
   "mimetype": "text/x-python",
   "name": "python",
   "nbconvert_exporter": "python",
   "pygments_lexer": "ipython2",
   "version": "2.7.12"
  }
 },
 "nbformat": 4,
 "nbformat_minor": 0
}
